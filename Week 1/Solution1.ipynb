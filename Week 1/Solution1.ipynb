{
 "cells": [
  {
   "cell_type": "code",
   "execution_count": 1,
   "id": "4d2f1317",
   "metadata": {},
   "outputs": [],
   "source": [
    "import numpy as np\n",
    "import pandas as pd"
   ]
  },
  {
   "cell_type": "markdown",
   "id": "8d3db499",
   "metadata": {},
   "source": [
    "# Problem 1"
   ]
  },
  {
   "cell_type": "code",
   "execution_count": 2,
   "id": "dfa4f719",
   "metadata": {},
   "outputs": [
    {
     "name": "stdout",
     "output_type": "stream",
     "text": [
      "[[21 37 27 10]\n",
      " [12 15 30 28]\n",
      " [ 8 43 20 41]\n",
      " [50 31 47 39]\n",
      " [40 18  1 45]]\n"
     ]
    }
   ],
   "source": [
    "a = np.random.randint(1,51, size=(5,4))\n",
    "print(a)"
   ]
  },
  {
   "cell_type": "code",
   "execution_count": 3,
   "id": "e6074349",
   "metadata": {},
   "outputs": [
    {
     "name": "stdout",
     "output_type": "stream",
     "text": [
      "[10 30 43 50]\n"
     ]
    }
   ],
   "source": [
    "anti_diag = []\n",
    "for i in range(min(a.shape)):\n",
    "    anti_diag.append(a[i,-i-1])\n",
    "\n",
    "anti_diag = np.array(anti_diag)\n",
    "print(anti_diag)\n",
    "    "
   ]
  },
  {
   "cell_type": "code",
   "execution_count": 4,
   "id": "aff0e2ce",
   "metadata": {},
   "outputs": [
    {
     "data": {
      "text/plain": [
       "array([37, 30, 43, 50, 45], dtype=int32)"
      ]
     },
     "execution_count": 4,
     "metadata": {},
     "output_type": "execute_result"
    }
   ],
   "source": [
    "row_max = np.max(a, axis=1)\n",
    " \n",
    "row_max"
   ]
  },
  {
   "cell_type": "code",
   "execution_count": 5,
   "id": "8853ea37",
   "metadata": {},
   "outputs": [
    {
     "data": {
      "text/plain": [
       "np.float64(28.15)"
      ]
     },
     "execution_count": 5,
     "metadata": {},
     "output_type": "execute_result"
    }
   ],
   "source": [
    "mean_val = np.mean(a)\n",
    "mean_val"
   ]
  },
  {
   "cell_type": "code",
   "execution_count": 6,
   "id": "c23a3d10",
   "metadata": {},
   "outputs": [
    {
     "data": {
      "text/plain": [
       "array([21, 27, 10, 12, 15, 28,  8, 20, 18,  1], dtype=int32)"
      ]
     },
     "execution_count": 6,
     "metadata": {},
     "output_type": "execute_result"
    }
   ],
   "source": [
    "new_a = np.array([a[i][j] for i in range(a.shape[0]) for j in range(a.shape[1]) if a[i][j]<=mean_val])\n",
    "\n",
    "new_a"
   ]
  },
  {
   "cell_type": "code",
   "execution_count": 7,
   "id": "3ae48a03",
   "metadata": {},
   "outputs": [
    {
     "data": {
      "text/plain": [
       "array([21, 37, 27, 10, 28, 41, 39, 45,  1, 18, 40, 50,  8, 12],\n",
       "      dtype=int32)"
      ]
     },
     "execution_count": 7,
     "metadata": {},
     "output_type": "execute_result"
    }
   ],
   "source": [
    "def numpy_boundary_traversal(matrix):\n",
    "    rows , cols = matrix.shape\n",
    "    boundary = []\n",
    "    boundary.extend(matrix[0, :])\n",
    "    boundary.extend(matrix[1:rows-1, -1])\n",
    "    boundary.extend(matrix[rows-1, ::-1])\n",
    "    boundary.extend(matrix[rows-2:0:-1, 0])\n",
    "\n",
    "    return np.array(boundary)\n",
    "\n",
    "boundary = numpy_boundary_traversal(a)\n",
    "boundary"
   ]
  },
  {
   "cell_type": "markdown",
   "id": "1607d0b0",
   "metadata": {},
   "source": [
    "# Problem 2"
   ]
  },
  {
   "cell_type": "code",
   "execution_count": 8,
   "id": "2db0d402",
   "metadata": {},
   "outputs": [
    {
     "data": {
      "text/plain": [
       "array([1.99715528, 7.28760813, 2.89204881, 4.12330461, 0.65904635,\n",
       "       3.52081408, 2.57933678, 5.01468718, 7.24390709, 3.67372029,\n",
       "       2.05179054, 0.72786258, 1.07479112, 5.07898734, 5.03134528,\n",
       "       7.18546528, 4.09369332, 0.71834728, 8.24652547, 6.7007052 ])"
      ]
     },
     "execution_count": 8,
     "metadata": {},
     "output_type": "execute_result"
    }
   ],
   "source": [
    "b = np.random.uniform(0, 10, 20)\n",
    "b"
   ]
  },
  {
   "cell_type": "code",
   "execution_count": 9,
   "id": "a82f2ecd",
   "metadata": {},
   "outputs": [
    {
     "data": {
      "text/plain": [
       "array([2.  , 7.29, 2.89, 4.12, 0.66, 3.52, 2.58, 5.01, 7.24, 3.67, 2.05,\n",
       "       0.73, 1.07, 5.08, 5.03, 7.19, 4.09, 0.72, 8.25, 6.7 ])"
      ]
     },
     "execution_count": 9,
     "metadata": {},
     "output_type": "execute_result"
    }
   ],
   "source": [
    "b = np.round(b,2)\n",
    "b"
   ]
  },
  {
   "cell_type": "code",
   "execution_count": 10,
   "id": "9fa7f2ed",
   "metadata": {},
   "outputs": [
    {
     "name": "stdout",
     "output_type": "stream",
     "text": [
      "0.66\n"
     ]
    }
   ],
   "source": [
    "print(np.min(b))"
   ]
  },
  {
   "cell_type": "code",
   "execution_count": 11,
   "id": "52faffd4",
   "metadata": {},
   "outputs": [
    {
     "name": "stdout",
     "output_type": "stream",
     "text": [
      "8.25\n"
     ]
    }
   ],
   "source": [
    "print(np.max(b))"
   ]
  },
  {
   "cell_type": "code",
   "execution_count": 12,
   "id": "b61d2f8b",
   "metadata": {},
   "outputs": [
    {
     "name": "stdout",
     "output_type": "stream",
     "text": [
      "3.88\n"
     ]
    }
   ],
   "source": [
    "print(np.median(b))"
   ]
  },
  {
   "cell_type": "code",
   "execution_count": 13,
   "id": "1d8f0702",
   "metadata": {},
   "outputs": [
    {
     "data": {
      "text/plain": [
       "array([ 4.    ,  7.29  ,  8.3521, 16.9744,  0.4356, 12.3904,  6.6564,\n",
       "        5.01  ,  7.24  , 13.4689,  4.2025,  0.5329,  1.1449,  5.08  ,\n",
       "        5.03  ,  7.19  , 16.7281,  0.5184,  8.25  ,  6.7   ])"
      ]
     },
     "execution_count": 13,
     "metadata": {},
     "output_type": "execute_result"
    }
   ],
   "source": [
    "for i in range(b.size):\n",
    "    if b[i] < 5:\n",
    "        b[i] = b[i]*b[i]\n",
    "\n",
    "b\n"
   ]
  },
  {
   "cell_type": "code",
   "execution_count": 14,
   "id": "fd562bcd",
   "metadata": {},
   "outputs": [
    {
     "name": "stdout",
     "output_type": "stream",
     "text": [
      "[ 0.4356 16.9744  0.5184 16.7281  0.5329 13.4689  1.1449 12.3904  4.\n",
      "  8.3521  4.2025  8.25    5.01    7.29    5.03    7.24    5.08    7.19\n",
      "  6.6564  6.7   ]\n"
     ]
    }
   ],
   "source": [
    "def numpy_alternate_sort(array):\n",
    "    sorted_arr = np.sort(array)\n",
    "    result = []\n",
    "    i, j = 0, len(sorted_arr) - 1\n",
    "    while i <= j:\n",
    "        result.append(sorted_arr[i])\n",
    "        if i != j:\n",
    "            result.append(sorted_arr[j])\n",
    "        i += 1\n",
    "        j -= 1\n",
    "    return np.array(result)\n",
    "\n",
    "print(numpy_alternate_sort(b))"
   ]
  },
  {
   "cell_type": "markdown",
   "id": "ff316ae2",
   "metadata": {},
   "source": [
    "# Problem 3"
   ]
  },
  {
   "cell_type": "code",
   "execution_count": 15,
   "id": "30a25591",
   "metadata": {},
   "outputs": [
    {
     "data": {
      "text/html": [
       "<div>\n",
       "<style scoped>\n",
       "    .dataframe tbody tr th:only-of-type {\n",
       "        vertical-align: middle;\n",
       "    }\n",
       "\n",
       "    .dataframe tbody tr th {\n",
       "        vertical-align: top;\n",
       "    }\n",
       "\n",
       "    .dataframe thead th {\n",
       "        text-align: right;\n",
       "    }\n",
       "</style>\n",
       "<table border=\"1\" class=\"dataframe\">\n",
       "  <thead>\n",
       "    <tr style=\"text-align: right;\">\n",
       "      <th></th>\n",
       "      <th>Name</th>\n",
       "      <th>Subject</th>\n",
       "      <th>Score</th>\n",
       "    </tr>\n",
       "  </thead>\n",
       "  <tbody>\n",
       "    <tr>\n",
       "      <th>0</th>\n",
       "      <td>Student1</td>\n",
       "      <td>Science</td>\n",
       "      <td>98</td>\n",
       "    </tr>\n",
       "    <tr>\n",
       "      <th>1</th>\n",
       "      <td>Student2</td>\n",
       "      <td>English</td>\n",
       "      <td>78</td>\n",
       "    </tr>\n",
       "    <tr>\n",
       "      <th>2</th>\n",
       "      <td>Student3</td>\n",
       "      <td>Math</td>\n",
       "      <td>66</td>\n",
       "    </tr>\n",
       "    <tr>\n",
       "      <th>3</th>\n",
       "      <td>Student4</td>\n",
       "      <td>Science</td>\n",
       "      <td>88</td>\n",
       "    </tr>\n",
       "    <tr>\n",
       "      <th>4</th>\n",
       "      <td>Student5</td>\n",
       "      <td>Science</td>\n",
       "      <td>65</td>\n",
       "    </tr>\n",
       "    <tr>\n",
       "      <th>5</th>\n",
       "      <td>Student6</td>\n",
       "      <td>Math</td>\n",
       "      <td>80</td>\n",
       "    </tr>\n",
       "    <tr>\n",
       "      <th>6</th>\n",
       "      <td>Student7</td>\n",
       "      <td>Science</td>\n",
       "      <td>83</td>\n",
       "    </tr>\n",
       "    <tr>\n",
       "      <th>7</th>\n",
       "      <td>Student8</td>\n",
       "      <td>English</td>\n",
       "      <td>87</td>\n",
       "    </tr>\n",
       "    <tr>\n",
       "      <th>8</th>\n",
       "      <td>Student9</td>\n",
       "      <td>Science</td>\n",
       "      <td>92</td>\n",
       "    </tr>\n",
       "    <tr>\n",
       "      <th>9</th>\n",
       "      <td>Student10</td>\n",
       "      <td>Math</td>\n",
       "      <td>79</td>\n",
       "    </tr>\n",
       "  </tbody>\n",
       "</table>\n",
       "</div>"
      ],
      "text/plain": [
       "        Name  Subject  Score\n",
       "0   Student1  Science     98\n",
       "1   Student2  English     78\n",
       "2   Student3     Math     66\n",
       "3   Student4  Science     88\n",
       "4   Student5  Science     65\n",
       "5   Student6     Math     80\n",
       "6   Student7  Science     83\n",
       "7   Student8  English     87\n",
       "8   Student9  Science     92\n",
       "9  Student10     Math     79"
      ]
     },
     "execution_count": 15,
     "metadata": {},
     "output_type": "execute_result"
    }
   ],
   "source": [
    "data = {\n",
    "    \"Name\": [f\"Student{i}\" for i in range(1, 11)],\n",
    "    \"Subject\": np.random.choice([\"Math\", \"Science\", \"English\"], size=10),\n",
    "    \"Score\": np.random.randint(50, 101, size=10)\n",
    "}\n",
    "\n",
    "# Create DataFrame\n",
    "df = pd.DataFrame(data)\n",
    "df"
   ]
  },
  {
   "cell_type": "code",
   "execution_count": 16,
   "id": "a444b2bb",
   "metadata": {},
   "outputs": [
    {
     "data": {
      "text/html": [
       "<div>\n",
       "<style scoped>\n",
       "    .dataframe tbody tr th:only-of-type {\n",
       "        vertical-align: middle;\n",
       "    }\n",
       "\n",
       "    .dataframe tbody tr th {\n",
       "        vertical-align: top;\n",
       "    }\n",
       "\n",
       "    .dataframe thead th {\n",
       "        text-align: right;\n",
       "    }\n",
       "</style>\n",
       "<table border=\"1\" class=\"dataframe\">\n",
       "  <thead>\n",
       "    <tr style=\"text-align: right;\">\n",
       "      <th></th>\n",
       "      <th>Name</th>\n",
       "      <th>Subject</th>\n",
       "      <th>Score</th>\n",
       "      <th>Grade</th>\n",
       "    </tr>\n",
       "  </thead>\n",
       "  <tbody>\n",
       "    <tr>\n",
       "      <th>0</th>\n",
       "      <td>Student1</td>\n",
       "      <td>Science</td>\n",
       "      <td>98</td>\n",
       "      <td>A</td>\n",
       "    </tr>\n",
       "    <tr>\n",
       "      <th>1</th>\n",
       "      <td>Student2</td>\n",
       "      <td>English</td>\n",
       "      <td>78</td>\n",
       "      <td>C</td>\n",
       "    </tr>\n",
       "    <tr>\n",
       "      <th>2</th>\n",
       "      <td>Student3</td>\n",
       "      <td>Math</td>\n",
       "      <td>66</td>\n",
       "      <td>D</td>\n",
       "    </tr>\n",
       "    <tr>\n",
       "      <th>3</th>\n",
       "      <td>Student4</td>\n",
       "      <td>Science</td>\n",
       "      <td>88</td>\n",
       "      <td>B</td>\n",
       "    </tr>\n",
       "    <tr>\n",
       "      <th>4</th>\n",
       "      <td>Student5</td>\n",
       "      <td>Science</td>\n",
       "      <td>65</td>\n",
       "      <td>D</td>\n",
       "    </tr>\n",
       "    <tr>\n",
       "      <th>5</th>\n",
       "      <td>Student6</td>\n",
       "      <td>Math</td>\n",
       "      <td>80</td>\n",
       "      <td>B</td>\n",
       "    </tr>\n",
       "    <tr>\n",
       "      <th>6</th>\n",
       "      <td>Student7</td>\n",
       "      <td>Science</td>\n",
       "      <td>83</td>\n",
       "      <td>B</td>\n",
       "    </tr>\n",
       "    <tr>\n",
       "      <th>7</th>\n",
       "      <td>Student8</td>\n",
       "      <td>English</td>\n",
       "      <td>87</td>\n",
       "      <td>B</td>\n",
       "    </tr>\n",
       "    <tr>\n",
       "      <th>8</th>\n",
       "      <td>Student9</td>\n",
       "      <td>Science</td>\n",
       "      <td>92</td>\n",
       "      <td>A</td>\n",
       "    </tr>\n",
       "    <tr>\n",
       "      <th>9</th>\n",
       "      <td>Student10</td>\n",
       "      <td>Math</td>\n",
       "      <td>79</td>\n",
       "      <td>C</td>\n",
       "    </tr>\n",
       "  </tbody>\n",
       "</table>\n",
       "</div>"
      ],
      "text/plain": [
       "        Name  Subject  Score Grade\n",
       "0   Student1  Science     98     A\n",
       "1   Student2  English     78     C\n",
       "2   Student3     Math     66     D\n",
       "3   Student4  Science     88     B\n",
       "4   Student5  Science     65     D\n",
       "5   Student6     Math     80     B\n",
       "6   Student7  Science     83     B\n",
       "7   Student8  English     87     B\n",
       "8   Student9  Science     92     A\n",
       "9  Student10     Math     79     C"
      ]
     },
     "execution_count": 16,
     "metadata": {},
     "output_type": "execute_result"
    }
   ],
   "source": [
    "df[\"Grade\"] = \"\"\n",
    "\n",
    "def assign_grade(score):\n",
    "    if score >= 90:\n",
    "        return 'A'\n",
    "    elif score >= 80:\n",
    "        return 'B'\n",
    "    elif score >= 70:\n",
    "        return 'C'\n",
    "    elif score >= 60:\n",
    "        return 'D'\n",
    "    else:\n",
    "        return 'F'\n",
    "\n",
    "df[\"Grade\"] = df[\"Score\"].apply(assign_grade)\n",
    "df"
   ]
  },
  {
   "cell_type": "code",
   "execution_count": 17,
   "id": "d0fec80d",
   "metadata": {},
   "outputs": [
    {
     "data": {
      "text/html": [
       "<div>\n",
       "<style scoped>\n",
       "    .dataframe tbody tr th:only-of-type {\n",
       "        vertical-align: middle;\n",
       "    }\n",
       "\n",
       "    .dataframe tbody tr th {\n",
       "        vertical-align: top;\n",
       "    }\n",
       "\n",
       "    .dataframe thead th {\n",
       "        text-align: right;\n",
       "    }\n",
       "</style>\n",
       "<table border=\"1\" class=\"dataframe\">\n",
       "  <thead>\n",
       "    <tr style=\"text-align: right;\">\n",
       "      <th></th>\n",
       "      <th>Name</th>\n",
       "      <th>Subject</th>\n",
       "      <th>Score</th>\n",
       "      <th>Grade</th>\n",
       "    </tr>\n",
       "  </thead>\n",
       "  <tbody>\n",
       "    <tr>\n",
       "      <th>0</th>\n",
       "      <td>Student1</td>\n",
       "      <td>Science</td>\n",
       "      <td>98</td>\n",
       "      <td>A</td>\n",
       "    </tr>\n",
       "    <tr>\n",
       "      <th>8</th>\n",
       "      <td>Student9</td>\n",
       "      <td>Science</td>\n",
       "      <td>92</td>\n",
       "      <td>A</td>\n",
       "    </tr>\n",
       "    <tr>\n",
       "      <th>3</th>\n",
       "      <td>Student4</td>\n",
       "      <td>Science</td>\n",
       "      <td>88</td>\n",
       "      <td>B</td>\n",
       "    </tr>\n",
       "    <tr>\n",
       "      <th>7</th>\n",
       "      <td>Student8</td>\n",
       "      <td>English</td>\n",
       "      <td>87</td>\n",
       "      <td>B</td>\n",
       "    </tr>\n",
       "    <tr>\n",
       "      <th>6</th>\n",
       "      <td>Student7</td>\n",
       "      <td>Science</td>\n",
       "      <td>83</td>\n",
       "      <td>B</td>\n",
       "    </tr>\n",
       "    <tr>\n",
       "      <th>5</th>\n",
       "      <td>Student6</td>\n",
       "      <td>Math</td>\n",
       "      <td>80</td>\n",
       "      <td>B</td>\n",
       "    </tr>\n",
       "    <tr>\n",
       "      <th>9</th>\n",
       "      <td>Student10</td>\n",
       "      <td>Math</td>\n",
       "      <td>79</td>\n",
       "      <td>C</td>\n",
       "    </tr>\n",
       "    <tr>\n",
       "      <th>1</th>\n",
       "      <td>Student2</td>\n",
       "      <td>English</td>\n",
       "      <td>78</td>\n",
       "      <td>C</td>\n",
       "    </tr>\n",
       "    <tr>\n",
       "      <th>2</th>\n",
       "      <td>Student3</td>\n",
       "      <td>Math</td>\n",
       "      <td>66</td>\n",
       "      <td>D</td>\n",
       "    </tr>\n",
       "    <tr>\n",
       "      <th>4</th>\n",
       "      <td>Student5</td>\n",
       "      <td>Science</td>\n",
       "      <td>65</td>\n",
       "      <td>D</td>\n",
       "    </tr>\n",
       "  </tbody>\n",
       "</table>\n",
       "</div>"
      ],
      "text/plain": [
       "        Name  Subject  Score Grade\n",
       "0   Student1  Science     98     A\n",
       "8   Student9  Science     92     A\n",
       "3   Student4  Science     88     B\n",
       "7   Student8  English     87     B\n",
       "6   Student7  Science     83     B\n",
       "5   Student6     Math     80     B\n",
       "9  Student10     Math     79     C\n",
       "1   Student2  English     78     C\n",
       "2   Student3     Math     66     D\n",
       "4   Student5  Science     65     D"
      ]
     },
     "execution_count": 17,
     "metadata": {},
     "output_type": "execute_result"
    }
   ],
   "source": [
    "df_sorted = df.sort_values(by=\"Score\", ascending=False)\n",
    "df_sorted"
   ]
  },
  {
   "cell_type": "code",
   "execution_count": 18,
   "id": "28f7199f",
   "metadata": {},
   "outputs": [
    {
     "data": {
      "text/plain": [
       "Subject\n",
       "English    82.5\n",
       "Math       75.0\n",
       "Science    85.2\n",
       "Name: Score, dtype: float64"
      ]
     },
     "execution_count": 18,
     "metadata": {},
     "output_type": "execute_result"
    }
   ],
   "source": [
    "avg_score = df.groupby(\"Subject\")[\"Score\"].mean()\n",
    "avg_score"
   ]
  },
  {
   "cell_type": "code",
   "execution_count": 19,
   "id": "b7a7d4ee",
   "metadata": {},
   "outputs": [
    {
     "data": {
      "text/html": [
       "<div>\n",
       "<style scoped>\n",
       "    .dataframe tbody tr th:only-of-type {\n",
       "        vertical-align: middle;\n",
       "    }\n",
       "\n",
       "    .dataframe tbody tr th {\n",
       "        vertical-align: top;\n",
       "    }\n",
       "\n",
       "    .dataframe thead th {\n",
       "        text-align: right;\n",
       "    }\n",
       "</style>\n",
       "<table border=\"1\" class=\"dataframe\">\n",
       "  <thead>\n",
       "    <tr style=\"text-align: right;\">\n",
       "      <th></th>\n",
       "      <th>Name</th>\n",
       "      <th>Subject</th>\n",
       "      <th>Score</th>\n",
       "      <th>Grade</th>\n",
       "    </tr>\n",
       "  </thead>\n",
       "  <tbody>\n",
       "    <tr>\n",
       "      <th>0</th>\n",
       "      <td>Student1</td>\n",
       "      <td>Science</td>\n",
       "      <td>98</td>\n",
       "      <td>A</td>\n",
       "    </tr>\n",
       "    <tr>\n",
       "      <th>3</th>\n",
       "      <td>Student4</td>\n",
       "      <td>Science</td>\n",
       "      <td>88</td>\n",
       "      <td>B</td>\n",
       "    </tr>\n",
       "    <tr>\n",
       "      <th>5</th>\n",
       "      <td>Student6</td>\n",
       "      <td>Math</td>\n",
       "      <td>80</td>\n",
       "      <td>B</td>\n",
       "    </tr>\n",
       "    <tr>\n",
       "      <th>6</th>\n",
       "      <td>Student7</td>\n",
       "      <td>Science</td>\n",
       "      <td>83</td>\n",
       "      <td>B</td>\n",
       "    </tr>\n",
       "    <tr>\n",
       "      <th>7</th>\n",
       "      <td>Student8</td>\n",
       "      <td>English</td>\n",
       "      <td>87</td>\n",
       "      <td>B</td>\n",
       "    </tr>\n",
       "    <tr>\n",
       "      <th>8</th>\n",
       "      <td>Student9</td>\n",
       "      <td>Science</td>\n",
       "      <td>92</td>\n",
       "      <td>A</td>\n",
       "    </tr>\n",
       "  </tbody>\n",
       "</table>\n",
       "</div>"
      ],
      "text/plain": [
       "       Name  Subject  Score Grade\n",
       "0  Student1  Science     98     A\n",
       "3  Student4  Science     88     B\n",
       "5  Student6     Math     80     B\n",
       "6  Student7  Science     83     B\n",
       "7  Student8  English     87     B\n",
       "8  Student9  Science     92     A"
      ]
     },
     "execution_count": 19,
     "metadata": {},
     "output_type": "execute_result"
    }
   ],
   "source": [
    "def pandas_filter_pass(df):\n",
    "    return df[df[\"Grade\"].isin([\"A\", \"B\"])]\n",
    "\n",
    "df = pandas_filter_pass(df)\n",
    "df"
   ]
  },
  {
   "cell_type": "markdown",
   "id": "260af7e2",
   "metadata": {},
   "source": [
    "# Problem 4"
   ]
  },
  {
   "cell_type": "code",
   "execution_count": 20,
   "id": "93049146",
   "metadata": {},
   "outputs": [],
   "source": [
    "import pandas as pd\n",
    "import numpy as np\n",
    "from sklearn.feature_extraction.text import CountVectorizer\n",
    "from sklearn.model_selection import train_test_split\n",
    "from sklearn.naive_bayes import MultinomialNB\n",
    "from sklearn.metrics import accuracy_score"
   ]
  },
  {
   "cell_type": "code",
   "execution_count": 21,
   "id": "968a6225",
   "metadata": {},
   "outputs": [],
   "source": [
    "positive = [\n",
    "  \"A masterpiece that redefines cinema\",\n",
    "  \"Heartwarming and beautifully crafted\",\n",
    "  \"The acting performances are Oscar-worthy\",\n",
    "  \"Visually stunning with breathtaking cinematography\",\n",
    "  \"Had me on the edge of my seat from start to finish\",\n",
    "  \"Perfect blend of humor and emotion\",\n",
    "  \"The director's best work yet\",\n",
    "  \"A triumph of storytelling\",\n",
    "  \"Left me feeling inspired and uplifted\",\n",
    "  \"Flawless character development\",\n",
    "  \"The soundtrack elevated every scene\",\n",
    "  \"A groundbreaking achievement in filmmaking\",\n",
    "  \"Powerful and deeply moving\",\n",
    "  \"Instant classic that deserves multiple viewings\",\n",
    "  \"Brilliantly written dialogue\",\n",
    "  \"Perfect pacing that never lags\",\n",
    "  \"Emotionally resonant and authentic\",\n",
    "  \"The visual effects set a new standard\",\n",
    "  \"Captivating from the very first frame\",\n",
    "  \"A tour de force performance by the lead\",\n",
    "  \"Thought-provoking and profound\",\n",
    "  \"The chemistry between actors was electric\",\n",
    "  \"Masterful balance of action and drama\",\n",
    "  \"Left the entire audience applauding\",\n",
    "  \"A cinematic experience like no other\",\n",
    "  \"Fresh and innovative storytelling\",\n",
    "  \"Perfectly captures the human spirit\",\n",
    "  \"The climax left me breathless\",\n",
    "  \"Richly detailed world-building\",\n",
    "  \"A beautiful love letter to the genre\",\n",
    "  \"Elevates the art of filmmaking\",\n",
    "  \"The emotional payoff was extraordinary\",\n",
    "  \"Every frame could be a painting\",\n",
    "  \"A joyful celebration of life\",\n",
    "  \"Smart, sophisticated, and satisfying\",\n",
    "  \"The best film of the decade\",\n",
    "  \"Unforgettable characters you root for\",\n",
    "  \"A perfect 10/10 experience\",\n",
    "  \"Magical and transportive\",\n",
    "  \"Sets a new benchmark for its genre\",\n",
    "  \"Deeply satisfying conclusion\",\n",
    "  \"The humor landed perfectly every time\",\n",
    "  \"A visionary achievement\",\n",
    "  \"Pure cinematic poetry\",\n",
    "  \"Filled with heart and soul\",\n",
    "  \"Remarkable depth and nuance\",\n",
    "  \"A rollercoaster of exhilarating emotions\",\n",
    "  \"The cinematography was pure artistry\",\n",
    "  \"An absolute must-see event\",\n",
    "  \"Left me speechless in the best way\",\n",
    "]\n",
    "\n",
    "negative = [\n",
    "  \"A complete waste of time\",\n",
    "  \"Painfully dull and uninspired\",\n",
    "  \"The worst screenplay I've ever witnessed\",\n",
    "  \"Visual effects looked laughably fake\",\n",
    "  \"Plot holes big enough to drive a truck through\",\n",
    "  \"Cringeworthy dialogue throughout\",\n",
    "  \"An insult to the audience's intelligence\",\n",
    "  \"Performances were wooden and lifeless\",\n",
    "  \"Directionless mess of a film\",\n",
    "  \"Embarrassingly bad CGI\",\n",
    "  \"Tone-deaf and offensive portrayal\",\n",
    "  \"Pacing slower than watching paint dry\",\n",
    "  \"A soulless cash grab\",\n",
    "  \"Unbearably pretentious nonsense\",\n",
    "  \"Characters were shallow stereotypes\",\n",
    "  \"Cliché-ridden from start to finish\",\n",
    "  \"The editing gave me a headache\",\n",
    "  \"Wasted a talented cast completely\",\n",
    "  \"Pointless subplots that go nowhere\",\n",
    "  \"Worst movie of the year by far\",\n",
    "  \"An incoherent narrative disaster\",\n",
    "  \"Emotionally manipulative and hollow\",\n",
    "  \"Technically incompetent filmmaking\",\n",
    "  \"The soundtrack was distractingly awful\",\n",
    "  \"Made me regret buying a ticket\",\n",
    "  \"A cynical franchise-killer\",\n",
    "  \"Lazy writing at every turn\",\n",
    "  \"Visually ugly and poorly shot\",\n",
    "  \"Tries too hard and fails miserably\",\n",
    "  \"An endurance test for viewers\",\n",
    "  \"Completely devoid of originality\",\n",
    "  \"The climax was hilariously anticlimactic\",\n",
    "  \"Tonally inconsistent whiplash\",\n",
    "  \"Overlong by at least an hour\",\n",
    "  \"Misguided from concept to execution\",\n",
    "  \"Feels like a first draft screenplay\",\n",
    "  \"Actors clearly just cashing paychecks\",\n",
    "  \"Offensive stereotypes masquerading as characters\",\n",
    "  \"A cinematic trainwreck\",\n",
    "  \"Makes similar bad films look good\",\n",
    "  \"The definition of style over substance\",\n",
    "  \"Joyless and plodding\",\n",
    "  \"Failed to establish basic coherence\",\n",
    "  \"Special effects worse than 90s TV\",\n",
    "  \"Dialogue that sounds AI-generated\",\n",
    "  \"Zero chemistry between leads\",\n",
    "  \"Morally reprehensible messaging\",\n",
    "  \"A franchise at rock bottom\",\n",
    "  \"Scenes strung together with no purpose\",\n",
    "  \"The cinematic equivalent of spam email\",\n",
    "]"
   ]
  },
  {
   "cell_type": "code",
   "execution_count": 22,
   "id": "40189c7b",
   "metadata": {},
   "outputs": [
    {
     "data": {
      "text/plain": [
       "(50, 50)"
      ]
     },
     "execution_count": 22,
     "metadata": {},
     "output_type": "execute_result"
    }
   ],
   "source": [
    "len(positive), len(negative)"
   ]
  },
  {
   "cell_type": "code",
   "execution_count": 23,
   "id": "f82884bd",
   "metadata": {},
   "outputs": [
    {
     "data": {
      "text/html": [
       "<div>\n",
       "<style scoped>\n",
       "    .dataframe tbody tr th:only-of-type {\n",
       "        vertical-align: middle;\n",
       "    }\n",
       "\n",
       "    .dataframe tbody tr th {\n",
       "        vertical-align: top;\n",
       "    }\n",
       "\n",
       "    .dataframe thead th {\n",
       "        text-align: right;\n",
       "    }\n",
       "</style>\n",
       "<table border=\"1\" class=\"dataframe\">\n",
       "  <thead>\n",
       "    <tr style=\"text-align: right;\">\n",
       "      <th></th>\n",
       "      <th>Review</th>\n",
       "      <th>Sentiment</th>\n",
       "    </tr>\n",
       "  </thead>\n",
       "  <tbody>\n",
       "    <tr>\n",
       "      <th>0</th>\n",
       "      <td>A masterpiece that redefines cinema</td>\n",
       "      <td>positive</td>\n",
       "    </tr>\n",
       "    <tr>\n",
       "      <th>1</th>\n",
       "      <td>Heartwarming and beautifully crafted</td>\n",
       "      <td>positive</td>\n",
       "    </tr>\n",
       "    <tr>\n",
       "      <th>2</th>\n",
       "      <td>The acting performances are Oscar-worthy</td>\n",
       "      <td>positive</td>\n",
       "    </tr>\n",
       "    <tr>\n",
       "      <th>3</th>\n",
       "      <td>Visually stunning with breathtaking cinematogr...</td>\n",
       "      <td>positive</td>\n",
       "    </tr>\n",
       "    <tr>\n",
       "      <th>4</th>\n",
       "      <td>Had me on the edge of my seat from start to fi...</td>\n",
       "      <td>positive</td>\n",
       "    </tr>\n",
       "    <tr>\n",
       "      <th>...</th>\n",
       "      <td>...</td>\n",
       "      <td>...</td>\n",
       "    </tr>\n",
       "    <tr>\n",
       "      <th>95</th>\n",
       "      <td>Zero chemistry between leads</td>\n",
       "      <td>negative</td>\n",
       "    </tr>\n",
       "    <tr>\n",
       "      <th>96</th>\n",
       "      <td>Morally reprehensible messaging</td>\n",
       "      <td>negative</td>\n",
       "    </tr>\n",
       "    <tr>\n",
       "      <th>97</th>\n",
       "      <td>A franchise at rock bottom</td>\n",
       "      <td>negative</td>\n",
       "    </tr>\n",
       "    <tr>\n",
       "      <th>98</th>\n",
       "      <td>Scenes strung together with no purpose</td>\n",
       "      <td>negative</td>\n",
       "    </tr>\n",
       "    <tr>\n",
       "      <th>99</th>\n",
       "      <td>The cinematic equivalent of spam email</td>\n",
       "      <td>negative</td>\n",
       "    </tr>\n",
       "  </tbody>\n",
       "</table>\n",
       "<p>100 rows × 2 columns</p>\n",
       "</div>"
      ],
      "text/plain": [
       "                                               Review Sentiment\n",
       "0                 A masterpiece that redefines cinema  positive\n",
       "1                Heartwarming and beautifully crafted  positive\n",
       "2            The acting performances are Oscar-worthy  positive\n",
       "3   Visually stunning with breathtaking cinematogr...  positive\n",
       "4   Had me on the edge of my seat from start to fi...  positive\n",
       "..                                                ...       ...\n",
       "95                       Zero chemistry between leads  negative\n",
       "96                    Morally reprehensible messaging  negative\n",
       "97                         A franchise at rock bottom  negative\n",
       "98             Scenes strung together with no purpose  negative\n",
       "99             The cinematic equivalent of spam email  negative\n",
       "\n",
       "[100 rows x 2 columns]"
      ]
     },
     "execution_count": 23,
     "metadata": {},
     "output_type": "execute_result"
    }
   ],
   "source": [
    "reviews = positive + negative\n",
    "sentiments = [\"positive\"] * 50 + [\"negative\"] * 50\n",
    "df = pd.DataFrame({\"Review\": reviews, \"Sentiment\": sentiments})\n",
    "df"
   ]
  },
  {
   "cell_type": "code",
   "execution_count": 24,
   "id": "f928015a",
   "metadata": {},
   "outputs": [],
   "source": [
    "vectorizer = CountVectorizer(max_features=500, stop_words='english')\n",
    "X = vectorizer.fit_transform(df['Review'])\n",
    "y = df['Sentiment']"
   ]
  },
  {
   "cell_type": "code",
   "execution_count": 25,
   "id": "cc4ee85d",
   "metadata": {},
   "outputs": [],
   "source": [
    "X_train, X_test, y_train, y_test = train_test_split(\n",
    "    X, y, test_size=0.2, random_state=42,\n",
    ")"
   ]
  },
  {
   "cell_type": "code",
   "execution_count": 26,
   "id": "d608f617",
   "metadata": {},
   "outputs": [
    {
     "name": "stdout",
     "output_type": "stream",
     "text": [
      "Test Accuracy: 0.65\n",
      "\n"
     ]
    }
   ],
   "source": [
    "model = MultinomialNB()\n",
    "model.fit(X_train, y_train)\n",
    "y_pred = model.predict(X_test)\n",
    "accuracy = accuracy_score(y_test, y_pred)\n",
    "print(f\"Test Accuracy: {accuracy:.2f}\\n\")\n"
   ]
  },
  {
   "cell_type": "code",
   "execution_count": 27,
   "id": "f2a3b2d6",
   "metadata": {},
   "outputs": [
    {
     "name": "stdout",
     "output_type": "stream",
     "text": [
      "Review 1: 'This movie was absolutely wonderful with perfect acting' → positive\n",
      "Review 2: 'Terrible waste of time with awful dialogue' → negative\n",
      "Review 3: 'The cinematography was breathtaking but the plot was weak' → positive\n",
      "Review 4: 'The movie was awesome and fun!' → negative\n"
     ]
    }
   ],
   "source": [
    "def predict_review_sentiment(model, vectorizer, review):\n",
    "    review_vec = vectorizer.transform([review])\n",
    "    return model.predict(review_vec)[0]\n",
    "\n",
    "test_reviews = [\n",
    "    \"This movie was absolutely wonderful with perfect acting\",\n",
    "    \"Terrible waste of time with awful dialogue\",\n",
    "    \"The cinematography was breathtaking but the plot was weak\",\n",
    "    \"The movie was awesome and fun!\"\n",
    "]\n",
    "\n",
    "for i, review in enumerate(test_reviews):\n",
    "    pred = predict_review_sentiment(model, vectorizer, review)\n",
    "    print(f\"Review {i+1}: '{review}' → {pred}\")"
   ]
  },
  {
   "cell_type": "code",
   "execution_count": null,
   "id": "a39d9542",
   "metadata": {},
   "outputs": [],
   "source": []
  }
 ],
 "metadata": {
  "kernelspec": {
   "display_name": "venv",
   "language": "python",
   "name": "python3"
  },
  "language_info": {
   "codemirror_mode": {
    "name": "ipython",
    "version": 3
   },
   "file_extension": ".py",
   "mimetype": "text/x-python",
   "name": "python",
   "nbconvert_exporter": "python",
   "pygments_lexer": "ipython3",
   "version": "3.12.2"
  }
 },
 "nbformat": 4,
 "nbformat_minor": 5
}
